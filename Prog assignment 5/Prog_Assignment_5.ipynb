{
  "nbformat": 4,
  "nbformat_minor": 0,
  "metadata": {
    "colab": {
      "name": "Prog Assignment 5.ipynb",
      "provenance": [],
      "collapsed_sections": [],
      "authorship_tag": "ABX9TyP87WHCOXnzd38GYIT4u8F/",
      "include_colab_link": true
    },
    "kernelspec": {
      "name": "python3",
      "display_name": "Python 3"
    }
  },
  "cells": [
    {
      "cell_type": "markdown",
      "metadata": {
        "id": "view-in-github",
        "colab_type": "text"
      },
      "source": [
        "<a href=\"https://colab.research.google.com/github/Aya-ZIbra/Stanford-Algorithm/blob/master/Prog%20assignment%205/Prog_Assignment_5.ipynb\" target=\"_parent\"><img src=\"https://colab.research.google.com/assets/colab-badge.svg\" alt=\"Open In Colab\"/></a>"
      ]
    },
    {
      "cell_type": "code",
      "metadata": {
        "id": "ejMGXWHOin7u",
        "colab_type": "code",
        "colab": {}
      },
      "source": [
        "f = open('./dijkstraData.txt', 'r')\n",
        "x = f.readlines()\n",
        "f.close()"
      ],
      "execution_count": 0,
      "outputs": []
    },
    {
      "cell_type": "code",
      "metadata": {
        "id": "XmjkhfBNkhX2",
        "colab_type": "code",
        "outputId": "01b881eb-530c-4f26-da4f-d2f3d6541c73",
        "colab": {
          "base_uri": "https://localhost:8080/",
          "height": 34
        }
      },
      "source": [
        "print(len(x))"
      ],
      "execution_count": 6,
      "outputs": [
        {
          "output_type": "stream",
          "text": [
            "200\n"
          ],
          "name": "stdout"
        }
      ]
    },
    {
      "cell_type": "code",
      "metadata": {
        "id": "nO0Y-DUikjpG",
        "colab_type": "code",
        "outputId": "62faea98-4410-4e87-c91f-9bca6b0c0af1",
        "colab": {
          "base_uri": "https://localhost:8080/",
          "height": 54
        }
      },
      "source": [
        "print(x[0].split())"
      ],
      "execution_count": 8,
      "outputs": [
        {
          "output_type": "stream",
          "text": [
            "['1', '80,982', '163,8164', '170,2620', '145,648', '200,8021', '173,2069', '92,647', '26,4122', '140,546', '11,1913', '160,6461', '27,7905', '40,9047', '150,2183', '61,9146', '159,7420', '198,1724', '114,508', '104,6647', '30,4612', '99,2367', '138,7896', '169,8700', '49,2437', '125,2909', '117,2597', '55,6399']\n"
          ],
          "name": "stdout"
        }
      ]
    },
    {
      "cell_type": "code",
      "metadata": {
        "id": "5RK5wdeem4zh",
        "colab_type": "code",
        "colab": {}
      },
      "source": [
        "G= {}\n",
        "for line in x:\n",
        "  line = line.split()\n",
        "  v = int(line[0])\n",
        "  G[v] = [t.split(',') for t in line[1:]]\n",
        "  G[v] = [(int(t[0]), int(t[1])) for t in G[v]]"
      ],
      "execution_count": 0,
      "outputs": []
    },
    {
      "cell_type": "code",
      "metadata": {
        "id": "ACjJzLOvna64",
        "colab_type": "code",
        "outputId": "fb819db1-b6d4-4c78-ace7-52b814111a1f",
        "colab": {
          "base_uri": "https://localhost:8080/",
          "height": 54
        }
      },
      "source": [
        "print(G[1])"
      ],
      "execution_count": 11,
      "outputs": [
        {
          "output_type": "stream",
          "text": [
            "[(80, 982), (163, 8164), (170, 2620), (145, 648), (200, 8021), (173, 2069), (92, 647), (26, 4122), (140, 546), (11, 1913), (160, 6461), (27, 7905), (40, 9047), (150, 2183), (61, 9146), (159, 7420), (198, 1724), (114, 508), (104, 6647), (30, 4612), (99, 2367), (138, 7896), (169, 8700), (49, 2437), (125, 2909), (117, 2597), (55, 6399)]\n"
          ],
          "name": "stdout"
        }
      ]
    },
    {
      "cell_type": "code",
      "metadata": {
        "id": "lQh4ojUE4VZ0",
        "colab_type": "code",
        "outputId": "93324b68-581d-4d52-b55b-618057b36dbb",
        "colab": {
          "base_uri": "https://localhost:8080/",
          "height": 34
        }
      },
      "source": [
        "#Initialize\n",
        "s = 1\n",
        "X = [s]\n",
        "A={} # computed shortest path distance\n",
        "A[s] = 0\n",
        "Flag_X = dict.fromkeys(range(1,201),0)\n",
        "Flag_X[s]= 1\n",
        "print(len(X))"
      ],
      "execution_count": 46,
      "outputs": [
        {
          "output_type": "stream",
          "text": [
            "1\n"
          ],
          "name": "stdout"
        }
      ]
    },
    {
      "cell_type": "code",
      "metadata": {
        "id": "LBBlG3Bzo-r8",
        "colab_type": "code",
        "outputId": "9b1b8d62-6335-495a-bde1-2ef3b6288b59",
        "colab": {
          "base_uri": "https://localhost:8080/",
          "height": 88
        }
      },
      "source": [
        "# main loop\n",
        "while len(X) < 200:\n",
        "  lmin = 1000000\n",
        "  for v in X:\n",
        "    #print(v)\n",
        "    for w,lvw in G[v]:\n",
        "      #print(w, lvw, 'lmin', lmin)\n",
        "      if Flag_X[w] == 0: # out of X\n",
        "        l = A[v] + lvw\n",
        "        if l< lmin: \n",
        "          lmin = l\n",
        "          v_new = w\n",
        "          #print('v new', w)\n",
        "  Flag_X[v_new] = 1\n",
        "  X.append(v_new)\n",
        "  #print(X)\n",
        "  A[v_new] = lmin\n",
        "print(X)\n",
        "print(len(X))\n",
        "print(A)"
      ],
      "execution_count": 47,
      "outputs": [
        {
          "output_type": "stream",
          "text": [
            "[1, 114, 140, 92, 145, 129, 70, 9, 199, 65, 80, 35, 19, 194, 119, 187, 108, 85, 128, 27, 134, 71, 122, 170, 158, 175, 131, 135, 72, 11, 87, 159, 61, 164, 126, 195, 198, 192, 112, 14, 130, 103, 154, 152, 16, 39, 8, 141, 113, 172, 155, 90, 133, 168, 42, 64, 82, 124, 200, 173, 153, 28, 163, 143, 44, 157, 183, 26, 118, 150, 95, 36, 25, 176, 18, 77, 30, 106, 110, 120, 189, 181, 20, 144, 99, 13, 96, 115, 160, 136, 196, 53, 178, 49, 165, 86, 132, 102, 138, 63, 51, 188, 5, 111, 67, 107, 33, 104, 162, 62, 60, 190, 117, 7, 56, 37, 142, 125, 167, 3, 23, 34, 84, 146, 184, 75, 41, 48, 169, 91, 78, 123, 79, 52, 121, 6, 57, 55, 148, 185, 12, 46, 15, 59, 100, 2, 81, 47, 32, 73, 156, 180, 88, 4, 197, 149, 17, 193, 109, 50, 10, 76, 89, 127, 43, 105, 54, 66, 94, 45, 31, 147, 116, 98, 101, 29, 93, 38, 174, 137, 21, 69, 24, 58, 179, 186, 182, 166, 177, 171, 83, 22, 40, 139, 191, 151, 97, 74, 68, 161]\n",
            "200\n",
            "{1: 0, 114: 508, 140: 546, 92: 647, 145: 648, 129: 676, 70: 743, 9: 745, 199: 815, 65: 826, 80: 982, 35: 998, 19: 1044, 194: 1073, 119: 1090, 187: 1151, 108: 1169, 85: 1193, 128: 1203, 27: 1222, 134: 1257, 71: 1265, 122: 1306, 170: 1365, 158: 1376, 175: 1432, 131: 1445, 135: 1533, 72: 1539, 11: 1551, 87: 1608, 159: 1627, 61: 1676, 164: 1693, 126: 1694, 195: 1707, 198: 1724, 192: 1737, 112: 1759, 14: 1803, 130: 1820, 103: 1826, 154: 1831, 152: 1832, 16: 1837, 39: 1851, 8: 1875, 141: 1889, 113: 1899, 172: 1990, 155: 2001, 90: 2018, 133: 2029, 168: 2038, 42: 2040, 64: 2047, 82: 2052, 124: 2057, 200: 2060, 173: 2069, 153: 2080, 28: 2090, 163: 2124, 143: 2141, 44: 2142, 157: 2143, 183: 2145, 26: 2150, 118: 2176, 150: 2183, 95: 2186, 36: 2236, 25: 2249, 176: 2279, 18: 2284, 77: 2298, 30: 2303, 106: 2303, 110: 2317, 120: 2328, 189: 2340, 181: 2345, 20: 2351, 144: 2359, 99: 2367, 13: 2394, 96: 2398, 115: 2399, 160: 2403, 136: 2417, 196: 2417, 53: 2420, 178: 2435, 49: 2437, 165: 2442, 86: 2461, 132: 2468, 102: 2478, 138: 2494, 63: 2498, 51: 2503, 188: 2505, 5: 2525, 111: 2535, 67: 2535, 107: 2540, 33: 2551, 104: 2551, 162: 2556, 62: 2573, 60: 2592, 190: 2596, 117: 2597, 7: 2599, 56: 2609, 37: 2610, 142: 2616, 125: 2618, 167: 2630, 3: 2644, 23: 2650, 34: 2656, 84: 2656, 146: 2682, 184: 2703, 75: 2720, 41: 2732, 48: 2757, 169: 2776, 91: 2786, 78: 2795, 123: 2805, 79: 2806, 52: 2817, 121: 2818, 6: 2818, 57: 2857, 55: 2862, 148: 2873, 185: 2884, 12: 2906, 46: 2937, 15: 2942, 59: 2947, 100: 2970, 2: 2971, 81: 2976, 47: 2979, 32: 3004, 73: 3007, 156: 3013, 180: 3027, 88: 3046, 4: 3056, 197: 3068, 149: 3109, 17: 3111, 193: 3136, 109: 3140, 50: 3152, 10: 3205, 76: 3220, 89: 3261, 127: 3285, 43: 3312, 105: 3368, 54: 3369, 66: 3393, 94: 3415, 45: 3438, 31: 3455, 147: 3464, 116: 3513, 98: 3515, 101: 3536, 29: 3540, 93: 3542, 38: 3548, 174: 3558, 137: 3599, 21: 3630, 69: 3650, 24: 3653, 58: 3668, 179: 3691, 186: 3806, 182: 3807, 166: 3814, 177: 3829, 171: 3929, 83: 3997, 22: 4028, 40: 4091, 139: 4101, 191: 4123, 151: 4159, 97: 4248, 74: 4286, 68: 4636, 161: 4772}\n"
          ],
          "name": "stdout"
        }
      ]
    },
    {
      "cell_type": "code",
      "metadata": {
        "id": "evxzSL8ny3Su",
        "colab_type": "code",
        "colab": {
          "base_uri": "https://localhost:8080/",
          "height": 187
        },
        "outputId": "18323a69-f716-491d-d37e-8eafc4919bec"
      },
      "source": [
        "req_vertices = [7,37,59,82,99,115,133,165,188,197]\n",
        "for v in req_vertices:\n",
        "  if v in A.keys():\n",
        "    print(v, '\\'s shortest path >>', A[v])"
      ],
      "execution_count": 48,
      "outputs": [
        {
          "output_type": "stream",
          "text": [
            "7 's shortest path >> 2599\n",
            "37 's shortest path >> 2610\n",
            "59 's shortest path >> 2947\n",
            "82 's shortest path >> 2052\n",
            "99 's shortest path >> 2367\n",
            "115 's shortest path >> 2399\n",
            "133 's shortest path >> 2029\n",
            "165 's shortest path >> 2442\n",
            "188 's shortest path >> 2505\n",
            "197 's shortest path >> 3068\n"
          ],
          "name": "stdout"
        }
      ]
    }
  ]
}