{
  "nbformat": 4,
  "nbformat_minor": 0,
  "metadata": {
    "colab": {
      "name": "Copy of Assignment2.ipynb",
      "provenance": [],
      "collapsed_sections": [],
      "authorship_tag": "ABX9TyNqS5fqSTBg+5PaWlWeFGfG",
      "include_colab_link": true
    },
    "kernelspec": {
      "name": "python3",
      "display_name": "Python 3"
    }
  },
  "cells": [
    {
      "cell_type": "markdown",
      "metadata": {
        "id": "view-in-github",
        "colab_type": "text"
      },
      "source": [
        "<a href=\"https://colab.research.google.com/github/Aya-ZIbra/Stanford-Algorithm/blob/master/Prog%20assignment%202/Assignment2.ipynb\" target=\"_parent\"><img src=\"https://colab.research.google.com/assets/colab-badge.svg\" alt=\"Open In Colab\"/></a>"
      ]
    },
    {
      "cell_type": "code",
      "metadata": {
        "id": "YVtDkw7QqoO1",
        "colab_type": "code",
        "outputId": "02489f5b-a486-46e3-95be-a60d9d073bce",
        "colab": {
          "base_uri": "https://localhost:8080/",
          "height": 131
        }
      },
      "source": [
        "! git clone https://github.com/Aya-ZIbra/Stanford-Algorithm\n",
        "! ls\n",
        "f = open('./Stanford-Algorithm/Prog assignment 2/QuickSort.txt', 'r')\n",
        "x = f.readlines()\n",
        "\n",
        "f.close()"
      ],
      "execution_count": 0,
      "outputs": [
        {
          "output_type": "stream",
          "text": [
            "Cloning into 'Stanford-Algorithm'...\n",
            "remote: Enumerating objects: 30, done.\u001b[K\n",
            "remote: Counting objects: 100% (30/30), done.\u001b[K\n",
            "remote: Compressing objects: 100% (25/25), done.\u001b[K\n",
            "remote: Total 30 (delta 7), reused 0 (delta 0), pack-reused 0\u001b[K\n",
            "Unpacking objects: 100% (30/30), done.\n",
            "sample_data  Stanford-Algorithm\n"
          ],
          "name": "stdout"
        }
      ]
    },
    {
      "cell_type": "code",
      "metadata": {
        "id": "NPFk4XVesFT3",
        "colab_type": "code",
        "outputId": "910b1615-1256-4b9d-f578-df9778c66ceb",
        "colab": {
          "base_uri": "https://localhost:8080/",
          "height": 66
        }
      },
      "source": [
        "print(x[0])\n",
        "y = [int(i) for i in x]\n",
        "print(len(y))"
      ],
      "execution_count": 0,
      "outputs": [
        {
          "output_type": "stream",
          "text": [
            "2148\n",
            "\n",
            "10000\n"
          ],
          "name": "stdout"
        }
      ]
    },
    {
      "cell_type": "code",
      "metadata": {
        "id": "0kpArG8xsQpF",
        "colab_type": "code",
        "outputId": "511586e6-5430-487c-85b5-6a09ebe7e8c6",
        "colab": {
          "base_uri": "https://localhost:8080/",
          "height": 33
        }
      },
      "source": [
        "#Quick sort with pivot as first element\n",
        "def partition(A, l,r,comp_count):\n",
        "  comp_count = comp_count + (r-l)\n",
        "  j = l\n",
        "  pivot = A[l]\n",
        "  for i in range(l+1,r+1):\n",
        "    if A[i] <pivot:\n",
        "      A[j+1], A[i] = A[i], A[j+1]\n",
        "      j = j + 1\n",
        "  A[l],A[j] = A[j],A[l]\n",
        "  return j, comp_count\n",
        "\n",
        "A = [7742, 3153, 6324, 9058, 7628]\n",
        "pos, cc = partition(A,0,4, 0)\n",
        "print(cc, pos, A)\n",
        "\n",
        "#quicksort(A[:p])\n",
        "#quicksort(A[p+1:])\n"
      ],
      "execution_count": 0,
      "outputs": [
        {
          "output_type": "stream",
          "text": [
            "4 3 [7628, 3153, 6324, 7742, 9058]\n"
          ],
          "name": "stdout"
        }
      ]
    },
    {
      "cell_type": "markdown",
      "metadata": {
        "id": "akFApF6rz8tv",
        "colab_type": "text"
      },
      "source": [
        "#Pivot element is the first element"
      ]
    },
    {
      "cell_type": "code",
      "metadata": {
        "id": "GrNPsS3E28k6",
        "colab_type": "code",
        "outputId": "79c51476-b0f5-44fa-8dfb-a2efd5a81546",
        "colab": {
          "base_uri": "https://localhost:8080/",
          "height": 50
        }
      },
      "source": [
        "def quicksort(A, l,r,comp_count):\n",
        "  #if len(A)<=1:\n",
        "  if r <= l:\n",
        "    #print('base')\n",
        "    return comp_count\n",
        "  pos, comp_count = partition(A,l,r, comp_count)\n",
        "  #print(pos, A[l:pos],A[pos+1:r+1])\n",
        "  cc1= quicksort(A,l,pos-1, comp_count)\n",
        "  #print(comp_count, cc1)\n",
        "  cc2 = quicksort(A, pos+1, r,cc1)\n",
        "  #print('cc2', cc2)\n",
        "  return cc2\n",
        "\n",
        "A = [6, 5,3,4,1,2,8,10,9,11]\n",
        "y = [int(i) for i in x]\n",
        "A = y \n",
        "print(len(y))\n",
        "cc= quicksort(A, 0, len(A)-1,0)\n",
        "#print(A)\n",
        "print(cc)"
      ],
      "execution_count": 0,
      "outputs": [
        {
          "output_type": "stream",
          "text": [
            "10000\n",
            "162085\n"
          ],
          "name": "stdout"
        }
      ]
    },
    {
      "cell_type": "markdown",
      "metadata": {
        "id": "T6Wr6XiN0IWR",
        "colab_type": "text"
      },
      "source": [
        "#Pivot element is the last element"
      ]
    },
    {
      "cell_type": "code",
      "metadata": {
        "id": "sDWBJSSa1hWK",
        "colab_type": "code",
        "outputId": "2108383b-06cd-4346-c007-d5ea6344dedf",
        "colab": {
          "base_uri": "https://localhost:8080/",
          "height": 33
        }
      },
      "source": [
        "#Quick sort with pivot as last element\n",
        "def partition_last(A, l,r,comp_count):\n",
        "  comp_count = comp_count + (r-l)\n",
        "  j = l\n",
        "  pivot = A[r]\n",
        "  for i in range(l,r):\n",
        "    if A[i] <pivot:\n",
        "      A[j], A[i] = A[i], A[j]\n",
        "      j = j + 1\n",
        "  A[r],A[j] = A[j],A[r]\n",
        "  return j, comp_count\n",
        "\n",
        "A = [7742, 3153, 6324, 9058, 7628]\n",
        "A = [6, 5,3,4,1,2,8,10,9,11]\n",
        "#A = [11, 1,  2, 3, 4, 5, 6,7]\n",
        "pos, cc = partition_last(A,0,len(A)-1, 0)\n",
        "print(cc, pos, A)"
      ],
      "execution_count": 0,
      "outputs": [
        {
          "output_type": "stream",
          "text": [
            "9 9 [6, 5, 3, 4, 1, 2, 8, 10, 9, 11]\n"
          ],
          "name": "stdout"
        }
      ]
    },
    {
      "cell_type": "code",
      "metadata": {
        "id": "QQrSnDZM0Vy2",
        "colab_type": "code",
        "outputId": "cd7a440d-0daf-4cde-babb-f51c278ff4f5",
        "colab": {
          "base_uri": "https://localhost:8080/",
          "height": 50
        }
      },
      "source": [
        "def quicksort(A, l,r,comp_count):\n",
        "  #if len(A)<=1:\n",
        "  if r <= l:\n",
        "    #print('base')\n",
        "    return comp_count\n",
        "  A[l],A[r] = A[r],A[l]\n",
        "  pos, comp_count = partition(A,l,r, comp_count)\n",
        "  #print(pos, A[l:pos],A[pos+1:r+1])\n",
        "  cc1= quicksort(A,l,pos-1, comp_count)\n",
        "  #print(comp_count, cc1)\n",
        "  cc2 = quicksort(A, pos+1, r,cc1)\n",
        "  #print('cc2', cc2)\n",
        "  return cc2\n",
        "\n",
        "\n",
        "#A = list(range(1,10))\n",
        "#A = [6, 5,3,4,1,2,8,10,9,11,7]\n",
        "y = [int(i) for i in x]\n",
        "A = y \n",
        "print(len(y))\n",
        "cc= quicksort(A, 0, len(A)-1,0)\n",
        "#print(A)\n",
        "print(cc)"
      ],
      "execution_count": 0,
      "outputs": [
        {
          "output_type": "stream",
          "text": [
            "10000\n",
            "164123\n"
          ],
          "name": "stdout"
        }
      ]
    },
    {
      "cell_type": "markdown",
      "metadata": {
        "id": "13Usu1VFCWml",
        "colab_type": "text"
      },
      "source": [
        "#Quick Sort with median of the three candidate elements"
      ]
    },
    {
      "cell_type": "code",
      "metadata": {
        "id": "tqcrBzZOEhdc",
        "colab_type": "code",
        "outputId": "243242c6-65a0-48bf-c9dc-88dc1610f4c4",
        "colab": {
          "base_uri": "https://localhost:8080/",
          "height": 33
        }
      },
      "source": [
        "def median(A,l,r):\n",
        "  mid = (l+r)//2\n",
        "  #print('mid', A[mid])\n",
        "  cand_elements = [A[l], A[mid], A[r]]\n",
        "  #sorted_indices = sorted(range(len(cand_elements)), key= lambda k:cand_elements[k])\n",
        "  sorted_elements = [l,mid,r]\n",
        "  \n",
        "  for i in range(3):\n",
        "    # Find the minimum element in remaining  \n",
        "    # unsorted array\n",
        "    min_idx = i \n",
        "    for j in range(i+1,3):\n",
        "      if cand_elements[j] < cand_elements[min_idx]:\n",
        "        min_idx = j\n",
        "    \n",
        "    # Swap the found minimum element with  \n",
        "    # the first element         \n",
        "    sorted_elements[i] , sorted_elements[min_idx]= sorted_elements[min_idx], sorted_elements[i]\n",
        "    cand_elements[i] ,cand_elements[min_idx]= cand_elements[min_idx], cand_elements[i]\n",
        "    #print (i,sorted_elements, cand_elements)\n",
        "  return sorted_elements[1]\n",
        "\n",
        "A = [8, 2, 4, 5, 7,7]\n",
        "pivot_pos = median(A,0, len(A)-1)\n",
        "print(A[pivot_pos])"
      ],
      "execution_count": 0,
      "outputs": [
        {
          "output_type": "stream",
          "text": [
            "7\n"
          ],
          "name": "stdout"
        }
      ]
    },
    {
      "cell_type": "code",
      "metadata": {
        "id": "VvbOj4T3C-5e",
        "colab_type": "code",
        "outputId": "2402321b-f059-4e66-f3cf-f8239018df2b",
        "colab": {
          "base_uri": "https://localhost:8080/",
          "height": 50
        }
      },
      "source": [
        "def quicksort(A, l,r,comp_count):\n",
        "  #if len(A)<=1:\n",
        "  if r <= l:\n",
        "    #print('base')\n",
        "    return comp_count\n",
        "  m = median(A,l,r)\n",
        "  #print('pivot = ', A[m])\n",
        "  A[l],A[m] = A[m],A[l]\n",
        "  pos, comp_count = partition(A,l,r, comp_count)\n",
        "  #print(pos, A[l:pos],A[pos+1:r+1])\n",
        "  cc1= quicksort(A,l,pos-1, comp_count)\n",
        "  #print(comp_count, cc1)\n",
        "  cc2 = quicksort(A, pos+1, r,cc1)\n",
        "  #print('cc2', cc2)\n",
        "  return cc2\n",
        "\n",
        "\n",
        "#A = list(range(1,10))\n",
        "#print(A)\n",
        "#A = [6, 5,3,4,1,2,8,10,9,11,7]\n",
        "y = [int(i) for i in x]\n",
        "A = y \n",
        "print(len(y))\n",
        "cc= quicksort(A, 0, len(A)-1,0)\n",
        "#print(A)\n",
        "print(cc)"
      ],
      "execution_count": 0,
      "outputs": [
        {
          "output_type": "stream",
          "text": [
            "10000\n",
            "138382\n"
          ],
          "name": "stdout"
        }
      ]
    }
  ]
}