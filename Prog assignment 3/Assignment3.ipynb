{
  "nbformat": 4,
  "nbformat_minor": 0,
  "metadata": {
    "colab": {
      "name": "Assignment3.ipynb",
      "provenance": [],
      "authorship_tag": "ABX9TyNsuSkYBufm5l8Sc/XnlyyH",
      "include_colab_link": true
    },
    "kernelspec": {
      "name": "python3",
      "display_name": "Python 3"
    }
  },
  "cells": [
    {
      "cell_type": "markdown",
      "metadata": {
        "id": "view-in-github",
        "colab_type": "text"
      },
      "source": [
        "<a href=\"https://colab.research.google.com/github/Aya-ZIbra/Stanford-Algorithm/blob/master/Prog%20assignment%203/Assignment3.ipynb\" target=\"_parent\"><img src=\"https://colab.research.google.com/assets/colab-badge.svg\" alt=\"Open In Colab\"/></a>"
      ]
    },
    {
      "cell_type": "code",
      "metadata": {
        "id": "4so5ENWtAJCt",
        "colab_type": "code",
        "colab": {
          "base_uri": "https://localhost:8080/",
          "height": 131
        },
        "outputId": "a502d1c5-f3ef-4c26-a4d6-cfb78e5b7eda"
      },
      "source": [
        "! git clone https://github.com/Aya-ZIbra/Stanford-Algorithm\n",
        "! ls\n",
        "f = open('./Stanford-Algorithm/Prog assignment 3/kargerMinCut.txt', 'r')\n",
        "x = f.readlines()\n",
        "\n",
        "f.close()"
      ],
      "execution_count": 2,
      "outputs": [
        {
          "output_type": "stream",
          "text": [
            "Cloning into 'Stanford-Algorithm'...\n",
            "remote: Enumerating objects: 42, done.\u001b[K\n",
            "remote: Counting objects:   2% (1/42)\u001b[K\rremote: Counting objects:   4% (2/42)\u001b[K\rremote: Counting objects:   7% (3/42)\u001b[K\rremote: Counting objects:   9% (4/42)\u001b[K\rremote: Counting objects:  11% (5/42)\u001b[K\rremote: Counting objects:  14% (6/42)\u001b[K\rremote: Counting objects:  16% (7/42)\u001b[K\rremote: Counting objects:  19% (8/42)\u001b[K\rremote: Counting objects:  21% (9/42)\u001b[K\rremote: Counting objects:  23% (10/42)\u001b[K\rremote: Counting objects:  26% (11/42)\u001b[K\rremote: Counting objects:  28% (12/42)\u001b[K\rremote: Counting objects:  30% (13/42)\u001b[K\rremote: Counting objects:  33% (14/42)\u001b[K\rremote: Counting objects:  35% (15/42)\u001b[K\rremote: Counting objects:  38% (16/42)\u001b[K\rremote: Counting objects:  40% (17/42)\u001b[K\rremote: Counting objects:  42% (18/42)\u001b[K\rremote: Counting objects:  45% (19/42)\u001b[K\rremote: Counting objects:  47% (20/42)\u001b[K\rremote: Counting objects:  50% (21/42)\u001b[K\rremote: Counting objects:  52% (22/42)\u001b[K\rremote: Counting objects:  54% (23/42)\u001b[K\rremote: Counting objects:  57% (24/42)\u001b[K\rremote: Counting objects:  59% (25/42)\u001b[K\rremote: Counting objects:  61% (26/42)\u001b[K\rremote: Counting objects:  64% (27/42)\u001b[K\rremote: Counting objects:  66% (28/42)\u001b[K\rremote: Counting objects:  69% (29/42)\u001b[K\rremote: Counting objects:  71% (30/42)\u001b[K\rremote: Counting objects:  73% (31/42)\u001b[K\rremote: Counting objects:  76% (32/42)\u001b[K\rremote: Counting objects:  78% (33/42)\u001b[K\rremote: Counting objects:  80% (34/42)\u001b[K\rremote: Counting objects:  83% (35/42)\u001b[K\rremote: Counting objects:  85% (36/42)\u001b[K\rremote: Counting objects:  88% (37/42)\u001b[K\rremote: Counting objects:  90% (38/42)\u001b[K\rremote: Counting objects:  92% (39/42)\u001b[K\rremote: Counting objects:  95% (40/42)\u001b[K\rremote: Counting objects:  97% (41/42)\u001b[K\rremote: Counting objects: 100% (42/42)\u001b[K\rremote: Counting objects: 100% (42/42), done.\u001b[K\n",
            "remote: Compressing objects: 100% (36/36), done.\u001b[K\n",
            "remote: Total 42 (delta 12), reused 0 (delta 0), pack-reused 0\u001b[K\n",
            "Unpacking objects: 100% (42/42), done.\n",
            "sample_data  Stanford-Algorithm\n"
          ],
          "name": "stdout"
        }
      ]
    },
    {
      "cell_type": "code",
      "metadata": {
        "id": "7ntCBL2tqnG6",
        "colab_type": "code",
        "colab": {}
      },
      "source": [
        "#print(x[0], len(x))"
      ],
      "execution_count": 0,
      "outputs": []
    },
    {
      "cell_type": "code",
      "metadata": {
        "id": "xtVpjJ3CeAWJ",
        "colab_type": "code",
        "colab": {
          "base_uri": "https://localhost:8080/",
          "height": 33
        },
        "outputId": "05b2a97b-5656-4e33-d156-3f28fa697b11"
      },
      "source": [
        "import random\n",
        "import copy\n",
        "G = {}\n",
        "for line in x:\n",
        "  line = line.split() #('\\t')\n",
        "  G[line[0]] = line[1:]\n",
        "count = []\n",
        "for i in range(20):\n",
        "  G_tmp = copy.deepcopy(G)\n",
        "  count.append(contract(G_tmp))\n",
        "print(min(count))\n",
        "#print (G.keys(), '\\n', G['1'], '\\n', list(G.keys()))"
      ],
      "execution_count": 111,
      "outputs": [
        {
          "output_type": "stream",
          "text": [
            "17\n"
          ],
          "name": "stdout"
        }
      ]
    },
    {
      "cell_type": "code",
      "metadata": {
        "id": "Jm-lbZUfmhXF",
        "colab_type": "code",
        "colab": {}
      },
      "source": [
        "def contract(G):\n",
        "  while (len(G)>2):\n",
        "    v1 = random.choice( list(G.keys()))\n",
        "    v2 = random.choice(G[v1])\n",
        "    #print(x[int(v1)-1])\n",
        "    #print(v1, v2)\n",
        "    #print(x[int(v1)-1])\n",
        "    #print(x[int(v2)-1])\n",
        "    G[v1].extend(G[v2])\n",
        "    #print(G[v1])\n",
        "    #print(G[v2])\n",
        "    for vertex in G[v2]:\n",
        "      G[vertex].remove(v2)\n",
        "      G[vertex].extend([v1]) #not v1\n",
        "    #print(G[G[v2][1]])\n",
        "    #print(G[v1])\n",
        "    #assert no v2 in all G[v2]\n",
        "    while G[v1].count(v1):\n",
        "      G[v1].remove(v1)\n",
        "    del G[v2]\n",
        "\n",
        "  rem_vert = list(G.keys())\n",
        "  #print(rem_vert, len(G[rem_vert[0]]),len(G[rem_vert[1]]))\n",
        "  return len(G[rem_vert[0]])"
      ],
      "execution_count": 0,
      "outputs": []
    },
    {
      "cell_type": "code",
      "metadata": {
        "id": "19YB2tg4qU2F",
        "colab_type": "code",
        "colab": {}
      },
      "source": [
        ""
      ],
      "execution_count": 0,
      "outputs": []
    }
  ]
}